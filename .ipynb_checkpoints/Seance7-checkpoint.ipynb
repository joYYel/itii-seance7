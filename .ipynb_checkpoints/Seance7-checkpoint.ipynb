{
 "cells": [
  {
   "cell_type": "markdown",
   "metadata": {},
   "source": [
    "En utilisant numpy:"
   ]
  },
  {
   "cell_type": "markdown",
   "metadata": {},
   "source": [
    "Ex 1 :Addition\n",
    "Écrire un programme pour lire les éléments de deux matrices et ajoutez les deux matrices dans la troisième.\n",
    "\n",
    "La somme de deux matrices de taille (m,n), $(A_{ij})$ et $(B_{ij})$ notée $A+B$  est à nouveau une matrice $(C_{ij})$ de taille (m,n), obtenue en additionnant les éléments correspondants: $c_{ij}=a_{ij}+b_{ij}$\n"
   ]
  },
  {
   "cell_type": "code",
   "execution_count": 14,
   "metadata": {},
   "outputs": [
    {
     "name": "stdout",
     "output_type": "stream",
     "text": [
      "A :  [[3, 1, 5], [-3, 3, -1], [0, 6, 2]]\n",
      "B :  [[4, -1, 3], [2, 1, 3], [5, 5, 5]]\n",
      "C =  [[7, 0, 8], [-1, 4, 2], [5, 11, 7]]\n"
     ]
    }
   ],
   "source": [
    "import numpy as np\n",
    "\n",
    "def addition(A,B):\n",
    "    C = []\n",
    "    for listA, listB in zip(A, B):\n",
    "        C.append([listA[i]+listB[i] for i in range(len(listA))])\n",
    "    return C\n",
    " \n",
    "A = [ [3, 1, 5], [-3, 3, -1], [0, 6, 2] ]\n",
    "B = [ [4, -1, 3], [2, 1, 3], [5, 5, 5] ]\n",
    "\n",
    "print(\"A : \", A)\n",
    "print(\"B : \", B)\n",
    "print(\"C = \",addition(A,B))"
   ]
  },
  {
   "cell_type": "markdown",
   "metadata": {},
   "source": [
    "Ex2 :Multiplication\n",
    "Écrire un programme pour lire les éléments de deux matrices, puis multipliez les deux matrices dans la troisième.\n",
    "\n",
    "Deux matrices ne peuvent être multipliées que si le nombre de colonnes de la première matrice est le même que le nombre de lignes de la seconde matrice.\n",
    "\n",
    "Si $ A=(a_{ij})$ est une matrice de taille (m,n), $ B=(b_{ij})$ et est une matrice de taille (n,p), alors leur produit, noté $AB=(c_{ij})$ est une matrice de taille (m,p) définie par :\n",
    "$$\\forall i,j : c_{ij}=\\sum_{k=i}^{n} a_{ik}*b_{kj}$$"
   ]
  },
  {
   "cell_type": "code",
   "execution_count": 43,
   "metadata": {},
   "outputs": [
    {
     "name": "stdout",
     "output_type": "stream",
     "text": [
      "c'est ok\n",
      "c'est ok\n",
      "c'est ok\n",
      "c'est ok\n",
      "c'est ok\n",
      "c'est ok\n",
      "c'est ok\n",
      "c'est ok\n",
      "c'est ok\n",
      "c'est ok\n",
      "c'est ok\n",
      "c'est ok\n",
      "c'est ok\n",
      "c'est ok\n",
      "c'est ok\n",
      "c'est ok\n",
      "c'est ok\n",
      "c'est ok\n",
      "c'est ok\n",
      "c'est ok\n",
      "c'est ok\n",
      "c'est ok\n",
      "c'est ok\n",
      "c'est ok\n",
      "c'est ok\n",
      "c'est ok\n",
      "c'est ok\n",
      "c'est ok\n",
      "c'est ok\n",
      "c'est ok\n",
      "c'est ok\n",
      "c'est ok\n",
      "c'est ok\n",
      "c'est ok\n",
      "c'est ok\n",
      "c'est ok\n",
      "c'est ok\n",
      "c'est ok\n",
      "c'est ok\n",
      "c'est ok\n",
      "c'est ok\n",
      "c'est ok\n",
      "c'est ok\n",
      "c'est ok\n",
      "c'est ok\n",
      "c'est ok\n",
      "c'est ok\n",
      "c'est ok\n",
      "c'est ok\n",
      "c'est ok\n",
      "c'est ok\n",
      "c'est ok\n",
      "c'est ok\n",
      "c'est ok\n",
      "c'est ok\n",
      "c'est ok\n",
      "c'est ok\n",
      "c'est ok\n",
      "c'est ok\n",
      "c'est ok\n",
      "c'est ok\n",
      "c'est ok\n",
      "c'est ok\n",
      "c'est ok\n",
      "c'est ok\n",
      "c'est ok\n",
      "c'est ok\n",
      "c'est ok\n",
      "c'est ok\n",
      "c'est ok\n",
      "c'est ok\n",
      "c'est ok\n",
      "c'est ok\n",
      "c'est ok\n",
      "c'est ok\n",
      "c'est ok\n",
      "c'est ok\n",
      "c'est ok\n",
      "c'est ok\n",
      "c'est ok\n",
      "c'est ok\n",
      "D= []\n"
     ]
    }
   ],
   "source": [
    "def multiplication(A,B):\n",
    "    C = []\n",
    "    for lignesA in range (len(A)):\n",
    "        for colonnesA in range (len(A[lignesA])):\n",
    "            for lignesB in range (len(B)):\n",
    "                for colonnesB in range (len(B[lignesB])):\n",
    "                    if (len(A) != len(B[lignesB])):\n",
    "                        print(\"Colonnes dans A : \",len(A))\n",
    "                        print(\"Lignes dans B : \",len(B[lignesB]))\n",
    "                        print(\"Multiplication impossible\")\n",
    "                        return\n",
    "                    else:\n",
    "                        print(\"c'est ok\")\n",
    "    return C\n",
    "\n",
    "M = [[2,3,5],[5,6,4],[7,1,2]]\n",
    "    \n",
    "print(\"D=\",multiplication(M,B))"
   ]
  },
  {
   "cell_type": "markdown",
   "metadata": {},
   "source": [
    "Ex 3: Matrice de Markov\n",
    "\n",
    "Une matrice de Markov est une matrice carrée dont chaque élément est un réel compris entre 0 et 1 et dont la somme des éléments de chaque ligne vaut 1. Cela correspond, en probabilité, à la matrice de transition d'une chaîne de Markov finie.\n",
    "\n",
    "Une matrice est dite bistochastique (ou doublement stochastique) si la somme des éléments de chaque ligne et de chaque colonne vaut 1.\n",
    "\n",
    "1. Ecrire une fonction eststochastique(P) qui permet de vérifier est ce que la matrice P est stochastique ou non\n",
    "2. Ecrire une fonction estbistochastique(P) qui permet de vérifier est ce que la matrice P est bistochastique ou non\n",
    "3. Ecrire une fonction vecteurstable(G, h) qui permet de vérifier est ce que h est un vecteur stable de G ou non\n",
    "\n"
   ]
  },
  {
   "cell_type": "code",
   "execution_count": null,
   "metadata": {},
   "outputs": [],
   "source": []
  },
  {
   "cell_type": "markdown",
   "metadata": {},
   "source": [
    "Ex 4: Transposer\n",
    "\n",
    "Programmer une fonction qui, étant donné une matrice à deux dimensions A, retourne lamatrice B dont la première colonne est la première ligne de A, la seconde la deuxième ligne de A, etc. B s’appelle la transposée de A."
   ]
  },
  {
   "cell_type": "code",
   "execution_count": null,
   "metadata": {},
   "outputs": [],
   "source": []
  },
  {
   "cell_type": "markdown",
   "metadata": {},
   "source": [
    "Ex 5: Permutations\n",
    "1. $M$ désignant une matrice quelconque d’entiers à $l_i$ lignes et $co$ colonnes, $n$ un entier quelconque, programmer une fonction qui retourne la matrice $Sortie$ qui empile verticalement les $co+1$ matrices obtenues en adjoignant à $M$ une colonne $A$ à $li$ lignes dont tousles éléments sont égaux à $n$, $A$ étant placée d’abord devant $M$, puis entre la première et deuxième colonne de $M^a$,etc, jusqu’à ce que $A$ devienne sa dernière colonne. La matriceobtenue  aura $co+1$ colonnes et $(n+1)$ $li$ lignes\n",
    "\n",
    "2. Écrire toutes les permutations de(1, ..., n)"
   ]
  }
 ],
 "metadata": {
  "kernelspec": {
   "display_name": "Python 3",
   "language": "python",
   "name": "python3"
  },
  "language_info": {
   "codemirror_mode": {
    "name": "ipython",
    "version": 3
   },
   "file_extension": ".py",
   "mimetype": "text/x-python",
   "name": "python",
   "nbconvert_exporter": "python",
   "pygments_lexer": "ipython3",
   "version": "3.8.3"
  }
 },
 "nbformat": 4,
 "nbformat_minor": 4
}
